{
 "cells": [
  {
   "cell_type": "code",
   "execution_count": 2,
   "metadata": {},
   "outputs": [],
   "source": [
    "import pandas as pd\n",
    "\n",
    "df_time_series = pd.read_pickle('cleaned_dataset_4months.pkl')"
   ]
  },
  {
   "cell_type": "code",
   "execution_count": 7,
   "metadata": {},
   "outputs": [
    {
     "data": {
      "text/plain": [
       "Index(['DateTime', 'TEWS_moisture', 'slurry_flowrate', 'ODOS_HLAS_rate',\n",
       "       'ODOS_caustic_NaOH_rate', 'temp_slurry_before_URACA',\n",
       "       'spray_slurry_rate', 'burner_gas_flow', 'tower_inlet_air_flow',\n",
       "       'TiT_tower_inlet_temperature', 'ambient_temperature',\n",
       "       'tower_primary_fan_of_max_speed', 'Recipe_name', 'HP_LVL_15mins',\n",
       "       'osiris_tit_optimal', 'osiris_primary_fan_optimal',\n",
       "       'nozzle_configuration_top', 'nozzle_configuration_bottom',\n",
       "       'tower_under_pressure', 'nozzle_pressure_top',\n",
       "       'nozzle_pressure_bottom'],\n",
       "      dtype='object')"
      ]
     },
     "execution_count": 7,
     "metadata": {},
     "output_type": "execute_result"
    }
   ],
   "source": [
    "df_time_series.columns"
   ]
  },
  {
   "cell_type": "code",
   "execution_count": 11,
   "metadata": {},
   "outputs": [],
   "source": [
    "import pmdarima as pmd\n",
    "\n",
    "def arimamodel(timeseriesarray):\n",
    "    autoarima_model = pmd.auto_arima(timeseriesarray, \n",
    "                              start_p=1, \n",
    "                              start_q=1,\n",
    "                              test=\"adf\",\n",
    "                              trace=True)\n",
    "    return autoarima_model"
   ]
  },
  {
   "cell_type": "code",
   "execution_count": 12,
   "metadata": {},
   "outputs": [
    {
     "name": "stdout",
     "output_type": "stream",
     "text": [
      " ARIMA(0,0,0)(0,0,0)[0]             : AIC=-105937.869, Time=0.15 sec\n",
      "Total fit time: 0.155 seconds\n"
     ]
    },
    {
     "name": "stderr",
     "output_type": "stream",
     "text": [
      "/home/gitpod/.pyenv/versions/3.8.13/lib/python3.8/site-packages/pmdarima/arima/auto.py:460: UserWarning: Input time-series is completely constant; returning a (0, 0, 0) ARMA.\n",
      "  warnings.warn('Input time-series is completely constant; '\n",
      "/home/gitpod/.pyenv/versions/3.8.13/lib/python3.8/site-packages/statsmodels/tsa/stattools.py:1346: RuntimeWarning: invalid value encountered in true_divide\n",
      "  test_statistic = numer_squared_sum / denom_squared_sum\n",
      "/home/gitpod/.pyenv/versions/3.8.13/lib/python3.8/site-packages/statsmodels/tsa/stattools.py:681: RuntimeWarning: invalid value encountered in true_divide\n",
      "  acf = avf[: nlags + 1] / avf[0]\n"
     ]
    },
    {
     "data": {
      "text/html": [
       "<table class=\"simpletable\">\n",
       "<caption>SARIMAX Results</caption>\n",
       "<tr>\n",
       "  <th>Dep. Variable:</th>           <td>y</td>        <th>  No. Observations:  </th>    <td>5000</td>    \n",
       "</tr>\n",
       "<tr>\n",
       "  <th>Model:</th>                <td>SARIMAX</td>     <th>  Log Likelihood     </th>  <td>52969.935</td> \n",
       "</tr>\n",
       "<tr>\n",
       "  <th>Date:</th>            <td>Thu, 12 May 2022</td> <th>  AIC                </th> <td>-105937.869</td>\n",
       "</tr>\n",
       "<tr>\n",
       "  <th>Time:</th>                <td>10:58:55</td>     <th>  BIC                </th> <td>-105931.352</td>\n",
       "</tr>\n",
       "<tr>\n",
       "  <th>Sample:</th>                  <td>0</td>        <th>  HQIC               </th> <td>-105935.585</td>\n",
       "</tr>\n",
       "<tr>\n",
       "  <th></th>                      <td> - 5000</td>     <th>                     </th>      <td> </td>     \n",
       "</tr>\n",
       "<tr>\n",
       "  <th>Covariance Type:</th>        <td>opg</td>       <th>                     </th>      <td> </td>     \n",
       "</tr>\n",
       "</table>\n",
       "<table class=\"simpletable\">\n",
       "<tr>\n",
       "     <td></td>       <th>coef</th>     <th>std err</th>      <th>z</th>      <th>P>|z|</th>  <th>[0.025</th>    <th>0.975]</th>  \n",
       "</tr>\n",
       "<tr>\n",
       "  <th>sigma2</th> <td>     1e-10</td> <td>  2.8e-11</td> <td>    3.568</td> <td> 0.000</td> <td> 4.51e-11</td> <td> 1.55e-10</td>\n",
       "</tr>\n",
       "</table>\n",
       "<table class=\"simpletable\">\n",
       "<tr>\n",
       "  <th>Ljung-Box (L1) (Q):</th>     <td>nan</td> <th>  Jarque-Bera (JB):  </th> <td>1875.00</td>\n",
       "</tr>\n",
       "<tr>\n",
       "  <th>Prob(Q):</th>                <td>nan</td> <th>  Prob(JB):          </th>  <td>0.00</td>  \n",
       "</tr>\n",
       "<tr>\n",
       "  <th>Heteroskedasticity (H):</th> <td>nan</td> <th>  Skew:              </th>  <td>0.00</td>  \n",
       "</tr>\n",
       "<tr>\n",
       "  <th>Prob(H) (two-sided):</th>    <td>nan</td> <th>  Kurtosis:          </th>  <td>0.00</td>  \n",
       "</tr>\n",
       "</table><br/><br/>Warnings:<br/>[1] Covariance matrix calculated using the outer product of gradients (complex-step)."
      ],
      "text/plain": [
       "<class 'statsmodels.iolib.summary.Summary'>\n",
       "\"\"\"\n",
       "                               SARIMAX Results                                \n",
       "==============================================================================\n",
       "Dep. Variable:                      y   No. Observations:                 5000\n",
       "Model:                        SARIMAX   Log Likelihood               52969.935\n",
       "Date:                Thu, 12 May 2022   AIC                        -105937.869\n",
       "Time:                        10:58:55   BIC                        -105931.352\n",
       "Sample:                             0   HQIC                       -105935.585\n",
       "                               - 5000                                         \n",
       "Covariance Type:                  opg                                         \n",
       "==============================================================================\n",
       "                 coef    std err          z      P>|z|      [0.025      0.975]\n",
       "------------------------------------------------------------------------------\n",
       "sigma2          1e-10    2.8e-11      3.568      0.000    4.51e-11    1.55e-10\n",
       "===================================================================================\n",
       "Ljung-Box (L1) (Q):                    nan   Jarque-Bera (JB):              1875.00\n",
       "Prob(Q):                               nan   Prob(JB):                         0.00\n",
       "Heteroskedasticity (H):                nan   Skew:                             0.00\n",
       "Prob(H) (two-sided):                   nan   Kurtosis:                         0.00\n",
       "===================================================================================\n",
       "\n",
       "Warnings:\n",
       "[1] Covariance matrix calculated using the outer product of gradients (complex-step).\n",
       "\"\"\""
      ]
     },
     "execution_count": 12,
     "metadata": {},
     "output_type": "execute_result"
    }
   ],
   "source": [
    "arima_model = arimamodel(df_time_series['TEWS_moisture'][0:5000])\n",
    "arima_model.summary()"
   ]
  },
  {
   "cell_type": "code",
   "execution_count": 20,
   "metadata": {},
   "outputs": [
    {
     "name": "stderr",
     "output_type": "stream",
     "text": [
      "/home/gitpod/.pyenv/versions/3.8.13/lib/python3.8/site-packages/statsmodels/tsa/base/tsa_model.py:471: ValueWarning: An unsupported index was provided and will be ignored when e.g. forecasting.\n",
      "  self._init_dates(dates, freq)\n",
      "/home/gitpod/.pyenv/versions/3.8.13/lib/python3.8/site-packages/statsmodels/tsa/base/tsa_model.py:471: ValueWarning: An unsupported index was provided and will be ignored when e.g. forecasting.\n",
      "  self._init_dates(dates, freq)\n",
      "/home/gitpod/.pyenv/versions/3.8.13/lib/python3.8/site-packages/statsmodels/tsa/base/tsa_model.py:471: ValueWarning: An unsupported index was provided and will be ignored when e.g. forecasting.\n",
      "  self._init_dates(dates, freq)\n",
      "/home/gitpod/.pyenv/versions/3.8.13/lib/python3.8/site-packages/statsmodels/base/model.py:604: ConvergenceWarning: Maximum Likelihood optimization failed to converge. Check mle_retvals\n",
      "  warnings.warn(\"Maximum Likelihood optimization failed to \"\n"
     ]
    },
    {
     "name": "stdout",
     "output_type": "stream",
     "text": [
      "0 2                                SARIMAX Results                                \n",
      "==============================================================================\n",
      "Dep. Variable:          TEWS_moisture   No. Observations:                 5000\n",
      "Model:                 ARIMA(5, 0, 2)   Log Likelihood               53189.796\n",
      "Date:                Thu, 12 May 2022   AIC                        -106361.592\n",
      "Time:                        11:08:15   BIC                        -106302.937\n",
      "Sample:                             0   HQIC                       -106341.034\n",
      "                               - 5000                                         \n",
      "Covariance Type:                  opg                                         \n",
      "==============================================================================\n",
      "                 coef    std err          z      P>|z|      [0.025      0.975]\n",
      "------------------------------------------------------------------------------\n",
      "const      -4.825e-06   2.31e-14  -2.09e+08      0.000   -4.82e-06   -4.82e-06\n",
      "ar.L1        8.57e-20   1.11e-19      0.770      0.441   -1.32e-19    3.04e-19\n",
      "ar.L2       1.885e-19   1.11e-19      1.695      0.090   -2.95e-20    4.07e-19\n",
      "ar.L3       2.914e-19   1.11e-19      2.620      0.009    7.34e-20    5.09e-19\n",
      "ar.L4       3.771e-19   1.11e-19      3.392      0.001    1.59e-19    5.95e-19\n",
      "ar.L5       4.628e-19   1.11e-19      4.163      0.000    2.45e-19    6.81e-19\n",
      "ma.L1       -8.57e-20   1.11e-19     -0.770      0.441   -3.04e-19    1.32e-19\n",
      "ma.L2      -1.885e-19   1.11e-19     -1.695      0.090   -4.07e-19    2.95e-20\n",
      "sigma2      1.097e-11   2.72e-11      0.403      0.687   -4.24e-11    6.43e-11\n",
      "===================================================================================\n",
      "Ljung-Box (L1) (Q):                5001.00   Jarque-Bera (JB):              1875.00\n",
      "Prob(Q):                              0.00   Prob(JB):                         0.00\n",
      "Heteroskedasticity (H):               1.00   Skew:                             0.00\n",
      "Prob(H) (two-sided):                  1.00   Kurtosis:                         0.00\n",
      "===================================================================================\n",
      "\n",
      "Warnings:\n",
      "[1] Covariance matrix calculated using the outer product of gradients (complex-step).\n",
      "[2] Covariance matrix is singular or near-singular, with condition number 2.1e+49. Standard errors may be unstable.\n"
     ]
    },
    {
     "name": "stderr",
     "output_type": "stream",
     "text": [
      "/home/gitpod/.pyenv/versions/3.8.13/lib/python3.8/site-packages/statsmodels/tsa/base/tsa_model.py:471: ValueWarning: An unsupported index was provided and will be ignored when e.g. forecasting.\n",
      "  self._init_dates(dates, freq)\n",
      "/home/gitpod/.pyenv/versions/3.8.13/lib/python3.8/site-packages/statsmodels/tsa/base/tsa_model.py:471: ValueWarning: An unsupported index was provided and will be ignored when e.g. forecasting.\n",
      "  self._init_dates(dates, freq)\n",
      "/home/gitpod/.pyenv/versions/3.8.13/lib/python3.8/site-packages/statsmodels/tsa/base/tsa_model.py:471: ValueWarning: An unsupported index was provided and will be ignored when e.g. forecasting.\n",
      "  self._init_dates(dates, freq)\n",
      "/home/gitpod/.pyenv/versions/3.8.13/lib/python3.8/site-packages/statsmodels/base/model.py:604: ConvergenceWarning: Maximum Likelihood optimization failed to converge. Check mle_retvals\n",
      "  warnings.warn(\"Maximum Likelihood optimization failed to \"\n",
      "/home/gitpod/.pyenv/versions/3.8.13/lib/python3.8/site-packages/statsmodels/tsa/statespace/mlemodel.py:2979: RuntimeWarning: divide by zero encountered in true_divide\n",
      "  return self.params / self.bse\n",
      "/home/gitpod/.pyenv/versions/3.8.13/lib/python3.8/site-packages/statsmodels/tsa/stattools.py:1346: RuntimeWarning: invalid value encountered in true_divide\n",
      "  test_statistic = numer_squared_sum / denom_squared_sum\n",
      "/home/gitpod/.pyenv/versions/3.8.13/lib/python3.8/site-packages/statsmodels/tsa/stattools.py:681: RuntimeWarning: invalid value encountered in true_divide\n",
      "  acf = avf[: nlags + 1] / avf[0]\n",
      "/home/gitpod/.pyenv/versions/3.8.13/lib/python3.8/site-packages/statsmodels/tsa/base/tsa_model.py:471: ValueWarning: An unsupported index was provided and will be ignored when e.g. forecasting.\n",
      "  self._init_dates(dates, freq)\n",
      "/home/gitpod/.pyenv/versions/3.8.13/lib/python3.8/site-packages/statsmodels/tsa/base/tsa_model.py:471: ValueWarning: An unsupported index was provided and will be ignored when e.g. forecasting.\n",
      "  self._init_dates(dates, freq)\n",
      "/home/gitpod/.pyenv/versions/3.8.13/lib/python3.8/site-packages/statsmodels/tsa/base/tsa_model.py:471: ValueWarning: An unsupported index was provided and will be ignored when e.g. forecasting.\n",
      "  self._init_dates(dates, freq)\n"
     ]
    },
    {
     "name": "stdout",
     "output_type": "stream",
     "text": [
      "1 2                                SARIMAX Results                                \n",
      "==============================================================================\n",
      "Dep. Variable:          TEWS_moisture   No. Observations:                 5000\n",
      "Model:                 ARIMA(5, 1, 2)   Log Likelihood               56934.020\n",
      "Date:                Thu, 12 May 2022   AIC                        -113852.040\n",
      "Time:                        11:08:17   BIC                        -113799.904\n",
      "Sample:                             0   HQIC                       -113833.767\n",
      "                               - 5000                                         \n",
      "Covariance Type:                  opg                                         \n",
      "==============================================================================\n",
      "                 coef    std err          z      P>|z|      [0.025      0.975]\n",
      "------------------------------------------------------------------------------\n",
      "ar.L1      -3.449e-10   5.18e-20  -6.66e+09      0.000   -3.45e-10   -3.45e-10\n",
      "ar.L2       1.725e-15         -0       -inf      0.000    1.72e-15    1.72e-15\n",
      "ar.L3       1.725e-15    3.7e-30   4.66e+14      0.000    1.72e-15    1.72e-15\n",
      "ar.L4       1.725e-15   2.34e-29   7.37e+13      0.000    1.72e-15    1.72e-15\n",
      "ar.L5       1.725e-15   4.33e-29   3.98e+13      0.000    1.72e-15    1.72e-15\n",
      "ma.L1      -3.449e-10   5.18e-20  -6.66e+09      0.000   -3.45e-10   -3.45e-10\n",
      "ma.L2      -1.725e-15   3.89e-29  -4.44e+13      0.000   -1.72e-15   -1.72e-15\n",
      "sigma2       2.03e-11   2.71e-11      0.750      0.453   -3.28e-11    7.34e-11\n",
      "===================================================================================\n",
      "Ljung-Box (L1) (Q):                    nan   Jarque-Bera (JB):              1874.62\n",
      "Prob(Q):                               nan   Prob(JB):                         0.00\n",
      "Heteroskedasticity (H):                nan   Skew:                             0.00\n",
      "Prob(H) (two-sided):                   nan   Kurtosis:                         0.00\n",
      "===================================================================================\n",
      "\n",
      "Warnings:\n",
      "[1] Covariance matrix calculated using the outer product of gradients (complex-step).\n",
      "[2] Covariance matrix is singular or near-singular, with condition number    inf. Standard errors may be unstable.\n"
     ]
    },
    {
     "name": "stderr",
     "output_type": "stream",
     "text": [
      "/home/gitpod/.pyenv/versions/3.8.13/lib/python3.8/site-packages/statsmodels/base/model.py:604: ConvergenceWarning: Maximum Likelihood optimization failed to converge. Check mle_retvals\n",
      "  warnings.warn(\"Maximum Likelihood optimization failed to \"\n",
      "/home/gitpod/.pyenv/versions/3.8.13/lib/python3.8/site-packages/statsmodels/tsa/statespace/mlemodel.py:2979: RuntimeWarning: invalid value encountered in true_divide\n",
      "  return self.params / self.bse\n",
      "/home/gitpod/.pyenv/versions/3.8.13/lib/python3.8/site-packages/statsmodels/tsa/stattools.py:1346: RuntimeWarning: invalid value encountered in true_divide\n",
      "  test_statistic = numer_squared_sum / denom_squared_sum\n",
      "/home/gitpod/.pyenv/versions/3.8.13/lib/python3.8/site-packages/statsmodels/tsa/stattools.py:681: RuntimeWarning: invalid value encountered in true_divide\n",
      "  acf = avf[: nlags + 1] / avf[0]\n",
      "/home/gitpod/.pyenv/versions/3.8.13/lib/python3.8/site-packages/statsmodels/tsa/base/tsa_model.py:471: ValueWarning: An unsupported index was provided and will be ignored when e.g. forecasting.\n",
      "  self._init_dates(dates, freq)\n",
      "/home/gitpod/.pyenv/versions/3.8.13/lib/python3.8/site-packages/statsmodels/tsa/base/tsa_model.py:471: ValueWarning: An unsupported index was provided and will be ignored when e.g. forecasting.\n",
      "  self._init_dates(dates, freq)\n",
      "/home/gitpod/.pyenv/versions/3.8.13/lib/python3.8/site-packages/statsmodels/tsa/base/tsa_model.py:471: ValueWarning: An unsupported index was provided and will be ignored when e.g. forecasting.\n",
      "  self._init_dates(dates, freq)\n"
     ]
    },
    {
     "name": "stdout",
     "output_type": "stream",
     "text": [
      "2 2                                SARIMAX Results                                \n",
      "==============================================================================\n",
      "Dep. Variable:          TEWS_moisture   No. Observations:                 5000\n",
      "Model:                 ARIMA(5, 2, 2)   Log Likelihood               57053.875\n",
      "Date:                Thu, 12 May 2022   AIC                        -114091.749\n",
      "Time:                        11:08:21   BIC                        -114039.615\n",
      "Sample:                             0   HQIC                       -114073.477\n",
      "                               - 5000                                         \n",
      "Covariance Type:                  opg                                         \n",
      "==============================================================================\n",
      "                 coef    std err          z      P>|z|      [0.025      0.975]\n",
      "------------------------------------------------------------------------------\n",
      "ar.L1              -0   1.03e-19         -0      1.000   -2.03e-19    2.03e-19\n",
      "ar.L2              -0         -0        nan        nan           0          -0\n",
      "ar.L3              -0    2.9e-32         -0      1.000   -5.68e-32    5.68e-32\n",
      "ar.L4              -0    2.4e-31         -0      1.000    -4.7e-31     4.7e-31\n",
      "ar.L5              -0   2.97e-30         -0      1.000   -5.83e-30    5.83e-30\n",
      "ma.L1               0   1.03e-19          0      1.000   -2.03e-19    2.03e-19\n",
      "ma.L2               0   3.99e-36          0      1.000   -7.81e-36    7.81e-36\n",
      "sigma2      1.926e-11   2.71e-11      0.712      0.477   -3.38e-11    7.23e-11\n",
      "===================================================================================\n",
      "Ljung-Box (L1) (Q):                    nan   Jarque-Bera (JB):              1874.25\n",
      "Prob(Q):                               nan   Prob(JB):                         0.00\n",
      "Heteroskedasticity (H):                nan   Skew:                             0.00\n",
      "Prob(H) (two-sided):                   nan   Kurtosis:                         0.00\n",
      "===================================================================================\n",
      "\n",
      "Warnings:\n",
      "[1] Covariance matrix calculated using the outer product of gradients (complex-step).\n",
      "[2] Covariance matrix is singular or near-singular, with condition number    inf. Standard errors may be unstable.\n"
     ]
    },
    {
     "name": "stderr",
     "output_type": "stream",
     "text": [
      "/home/gitpod/.pyenv/versions/3.8.13/lib/python3.8/site-packages/statsmodels/base/model.py:604: ConvergenceWarning: Maximum Likelihood optimization failed to converge. Check mle_retvals\n",
      "  warnings.warn(\"Maximum Likelihood optimization failed to \"\n",
      "/home/gitpod/.pyenv/versions/3.8.13/lib/python3.8/site-packages/statsmodels/tsa/stattools.py:1346: RuntimeWarning: invalid value encountered in true_divide\n",
      "  test_statistic = numer_squared_sum / denom_squared_sum\n",
      "/home/gitpod/.pyenv/versions/3.8.13/lib/python3.8/site-packages/statsmodels/tsa/stattools.py:681: RuntimeWarning: invalid value encountered in true_divide\n",
      "  acf = avf[: nlags + 1] / avf[0]\n",
      "/home/gitpod/.pyenv/versions/3.8.13/lib/python3.8/site-packages/statsmodels/tsa/base/tsa_model.py:471: ValueWarning: An unsupported index was provided and will be ignored when e.g. forecasting.\n",
      "  self._init_dates(dates, freq)\n",
      "/home/gitpod/.pyenv/versions/3.8.13/lib/python3.8/site-packages/statsmodels/tsa/base/tsa_model.py:471: ValueWarning: An unsupported index was provided and will be ignored when e.g. forecasting.\n",
      "  self._init_dates(dates, freq)\n",
      "/home/gitpod/.pyenv/versions/3.8.13/lib/python3.8/site-packages/statsmodels/tsa/base/tsa_model.py:471: ValueWarning: An unsupported index was provided and will be ignored when e.g. forecasting.\n",
      "  self._init_dates(dates, freq)\n"
     ]
    },
    {
     "name": "stdout",
     "output_type": "stream",
     "text": [
      "3 2                                SARIMAX Results                                \n",
      "==============================================================================\n",
      "Dep. Variable:          TEWS_moisture   No. Observations:                 5000\n",
      "Model:                 ARIMA(5, 3, 2)   Log Likelihood               48885.650\n",
      "Date:                Thu, 12 May 2022   AIC                         -97755.300\n",
      "Time:                        11:08:26   BIC                         -97703.168\n",
      "Sample:                             0   HQIC                        -97737.028\n",
      "                               - 5000                                         \n",
      "Covariance Type:                  opg                                         \n",
      "==============================================================================\n",
      "                 coef    std err          z      P>|z|      [0.025      0.975]\n",
      "------------------------------------------------------------------------------\n",
      "ar.L1       3.648e-05   2.77e-24   1.32e+19      0.000    3.65e-05    3.65e-05\n",
      "ar.L2       1.312e-05   1.54e-24    8.5e+18      0.000    1.31e-05    1.31e-05\n",
      "ar.L3        1.23e-09   2.37e-28   5.18e+18      0.000    1.23e-09    1.23e-09\n",
      "ar.L4       1.236e-09   1.66e-28   7.46e+18      0.000    1.24e-09    1.24e-09\n",
      "ar.L5       1.242e-09   1.46e-28    8.5e+18      0.000    1.24e-09    1.24e-09\n",
      "ma.L1      -1.297e-05   2.77e-24  -4.68e+18      0.000    -1.3e-05    -1.3e-05\n",
      "ma.L2      -1.813e-09   1.54e-24  -1.17e+15      0.000   -1.81e-09   -1.81e-09\n",
      "sigma2      7.334e-10   3.39e-11     21.628      0.000    6.67e-10       8e-10\n",
      "===================================================================================\n",
      "Ljung-Box (L1) (Q):                    nan   Jarque-Bera (JB):              1873.88\n",
      "Prob(Q):                               nan   Prob(JB):                         0.00\n",
      "Heteroskedasticity (H):                nan   Skew:                             0.00\n",
      "Prob(H) (two-sided):                   nan   Kurtosis:                         0.00\n",
      "===================================================================================\n",
      "\n",
      "Warnings:\n",
      "[1] Covariance matrix calculated using the outer product of gradients (complex-step).\n",
      "[2] Covariance matrix is singular or near-singular, with condition number 4.27e+50. Standard errors may be unstable.\n"
     ]
    },
    {
     "name": "stderr",
     "output_type": "stream",
     "text": [
      "/home/gitpod/.pyenv/versions/3.8.13/lib/python3.8/site-packages/statsmodels/base/model.py:604: ConvergenceWarning: Maximum Likelihood optimization failed to converge. Check mle_retvals\n",
      "  warnings.warn(\"Maximum Likelihood optimization failed to \"\n",
      "/home/gitpod/.pyenv/versions/3.8.13/lib/python3.8/site-packages/statsmodels/tsa/statespace/mlemodel.py:2979: RuntimeWarning: divide by zero encountered in true_divide\n",
      "  return self.params / self.bse\n",
      "/home/gitpod/.pyenv/versions/3.8.13/lib/python3.8/site-packages/statsmodels/tsa/stattools.py:1346: RuntimeWarning: invalid value encountered in true_divide\n",
      "  test_statistic = numer_squared_sum / denom_squared_sum\n",
      "/home/gitpod/.pyenv/versions/3.8.13/lib/python3.8/site-packages/statsmodels/tsa/stattools.py:681: RuntimeWarning: invalid value encountered in true_divide\n",
      "  acf = avf[: nlags + 1] / avf[0]\n",
      "/home/gitpod/.pyenv/versions/3.8.13/lib/python3.8/site-packages/statsmodels/tsa/base/tsa_model.py:471: ValueWarning: An unsupported index was provided and will be ignored when e.g. forecasting.\n",
      "  self._init_dates(dates, freq)\n",
      "/home/gitpod/.pyenv/versions/3.8.13/lib/python3.8/site-packages/statsmodels/tsa/base/tsa_model.py:471: ValueWarning: An unsupported index was provided and will be ignored when e.g. forecasting.\n",
      "  self._init_dates(dates, freq)\n",
      "/home/gitpod/.pyenv/versions/3.8.13/lib/python3.8/site-packages/statsmodels/tsa/base/tsa_model.py:471: ValueWarning: An unsupported index was provided and will be ignored when e.g. forecasting.\n",
      "  self._init_dates(dates, freq)\n"
     ]
    },
    {
     "name": "stdout",
     "output_type": "stream",
     "text": [
      "4 2                                SARIMAX Results                                \n",
      "==============================================================================\n",
      "Dep. Variable:          TEWS_moisture   No. Observations:                 5000\n",
      "Model:                 ARIMA(5, 4, 2)   Log Likelihood               54586.717\n",
      "Date:                Thu, 12 May 2022   AIC                        -109157.435\n",
      "Time:                        11:08:31   BIC                        -109105.303\n",
      "Sample:                             0   HQIC                       -109139.163\n",
      "                               - 5000                                         \n",
      "Covariance Type:                  opg                                         \n",
      "==============================================================================\n",
      "                 coef    std err          z      P>|z|      [0.025      0.975]\n",
      "------------------------------------------------------------------------------\n",
      "ar.L1      -3.241e-13   1.88e-20  -1.73e+07      0.000   -3.24e-13   -3.24e-13\n",
      "ar.L2       1.359e-16         -0       -inf      0.000    1.36e-16    1.36e-16\n",
      "ar.L3       1.359e-16   7.06e-36   1.92e+19      0.000    1.36e-16    1.36e-16\n",
      "ar.L4       1.359e-16   4.55e-36   2.99e+19      0.000    1.36e-16    1.36e-16\n",
      "ar.L5       1.359e-16   2.57e-36   5.29e+19      0.000    1.36e-16    1.36e-16\n",
      "ma.L1      -3.244e-13   1.88e-20  -1.73e+07      0.000   -3.24e-13   -3.24e-13\n",
      "ma.L2      -1.359e-16   1.22e-32  -1.11e+16      0.000   -1.36e-16   -1.36e-16\n",
      "sigma2      4.652e-11   2.81e-11      1.658      0.097   -8.46e-12    1.01e-10\n",
      "===================================================================================\n",
      "Ljung-Box (L1) (Q):                    nan   Jarque-Bera (JB):              1873.50\n",
      "Prob(Q):                               nan   Prob(JB):                         0.00\n",
      "Heteroskedasticity (H):                nan   Skew:                             0.00\n",
      "Prob(H) (two-sided):                   nan   Kurtosis:                         0.00\n",
      "===================================================================================\n",
      "\n",
      "Warnings:\n",
      "[1] Covariance matrix calculated using the outer product of gradients (complex-step).\n",
      "[2] Covariance matrix is singular or near-singular, with condition number 1.65e+160. Standard errors may be unstable.\n"
     ]
    },
    {
     "name": "stderr",
     "output_type": "stream",
     "text": [
      "/home/gitpod/.pyenv/versions/3.8.13/lib/python3.8/site-packages/statsmodels/base/model.py:604: ConvergenceWarning: Maximum Likelihood optimization failed to converge. Check mle_retvals\n",
      "  warnings.warn(\"Maximum Likelihood optimization failed to \"\n",
      "/home/gitpod/.pyenv/versions/3.8.13/lib/python3.8/site-packages/statsmodels/tsa/stattools.py:1346: RuntimeWarning: invalid value encountered in true_divide\n",
      "  test_statistic = numer_squared_sum / denom_squared_sum\n",
      "/home/gitpod/.pyenv/versions/3.8.13/lib/python3.8/site-packages/statsmodels/tsa/stattools.py:681: RuntimeWarning: invalid value encountered in true_divide\n",
      "  acf = avf[: nlags + 1] / avf[0]\n",
      "/home/gitpod/.pyenv/versions/3.8.13/lib/python3.8/site-packages/statsmodels/tsa/base/tsa_model.py:471: ValueWarning: An unsupported index was provided and will be ignored when e.g. forecasting.\n",
      "  self._init_dates(dates, freq)\n",
      "/home/gitpod/.pyenv/versions/3.8.13/lib/python3.8/site-packages/statsmodels/tsa/base/tsa_model.py:471: ValueWarning: An unsupported index was provided and will be ignored when e.g. forecasting.\n",
      "  self._init_dates(dates, freq)\n",
      "/home/gitpod/.pyenv/versions/3.8.13/lib/python3.8/site-packages/statsmodels/tsa/base/tsa_model.py:471: ValueWarning: An unsupported index was provided and will be ignored when e.g. forecasting.\n",
      "  self._init_dates(dates, freq)\n"
     ]
    },
    {
     "name": "stdout",
     "output_type": "stream",
     "text": [
      "5 2                                SARIMAX Results                                \n",
      "==============================================================================\n",
      "Dep. Variable:          TEWS_moisture   No. Observations:                 5000\n",
      "Model:                 ARIMA(5, 5, 2)   Log Likelihood               46386.275\n",
      "Date:                Thu, 12 May 2022   AIC                         -92756.549\n",
      "Time:                        11:08:47   BIC                         -92704.420\n",
      "Sample:                             0   HQIC                        -92738.278\n",
      "                               - 5000                                         \n",
      "Covariance Type:                  opg                                         \n",
      "==============================================================================\n",
      "                 coef    std err          z      P>|z|      [0.025      0.975]\n",
      "------------------------------------------------------------------------------\n",
      "ar.L1      -4.002e-06   7.58e-20  -5.28e+13      0.000      -4e-06      -4e-06\n",
      "ar.L2      -9.774e-06   1.31e-20  -7.46e+14      0.000   -9.77e-06   -9.77e-06\n",
      "ar.L3       1.221e-08   6.08e-25   2.01e+16      0.000    1.22e-08    1.22e-08\n",
      "ar.L4      -2.283e-06   5.43e-25   -4.2e+18      0.000   -2.28e-06   -2.28e-06\n",
      "ar.L5       1.251e-08    1.7e-25   7.35e+16      0.000    1.25e-08    1.25e-08\n",
      "ma.L1      -2.694e-06   7.58e-20  -3.55e+13      0.000   -2.69e-06   -2.69e-06\n",
      "ma.L2        5.16e-06   1.31e-20   3.94e+14      0.000    5.16e-06    5.16e-06\n",
      "sigma2       1.67e-09   5.83e-11     28.657      0.000    1.56e-09    1.78e-09\n",
      "===================================================================================\n",
      "Ljung-Box (L1) (Q):                    nan   Jarque-Bera (JB):              1873.12\n",
      "Prob(Q):                               nan   Prob(JB):                         0.00\n",
      "Heteroskedasticity (H):                nan   Skew:                             0.00\n",
      "Prob(H) (two-sided):                   nan   Kurtosis:                         0.00\n",
      "===================================================================================\n",
      "\n",
      "Warnings:\n",
      "[1] Covariance matrix calculated using the outer product of gradients (complex-step).\n",
      "[2] Covariance matrix is singular or near-singular, with condition number 3.05e+44. Standard errors may be unstable.\n"
     ]
    },
    {
     "name": "stderr",
     "output_type": "stream",
     "text": [
      "/home/gitpod/.pyenv/versions/3.8.13/lib/python3.8/site-packages/statsmodels/base/model.py:604: ConvergenceWarning: Maximum Likelihood optimization failed to converge. Check mle_retvals\n",
      "  warnings.warn(\"Maximum Likelihood optimization failed to \"\n",
      "/home/gitpod/.pyenv/versions/3.8.13/lib/python3.8/site-packages/statsmodels/tsa/stattools.py:1346: RuntimeWarning: invalid value encountered in true_divide\n",
      "  test_statistic = numer_squared_sum / denom_squared_sum\n",
      "/home/gitpod/.pyenv/versions/3.8.13/lib/python3.8/site-packages/statsmodels/tsa/stattools.py:681: RuntimeWarning: invalid value encountered in true_divide\n",
      "  acf = avf[: nlags + 1] / avf[0]\n",
      "/home/gitpod/.pyenv/versions/3.8.13/lib/python3.8/site-packages/statsmodels/tsa/base/tsa_model.py:471: ValueWarning: An unsupported index was provided and will be ignored when e.g. forecasting.\n",
      "  self._init_dates(dates, freq)\n",
      "/home/gitpod/.pyenv/versions/3.8.13/lib/python3.8/site-packages/statsmodels/tsa/base/tsa_model.py:471: ValueWarning: An unsupported index was provided and will be ignored when e.g. forecasting.\n",
      "  self._init_dates(dates, freq)\n",
      "/home/gitpod/.pyenv/versions/3.8.13/lib/python3.8/site-packages/statsmodels/tsa/base/tsa_model.py:471: ValueWarning: An unsupported index was provided and will be ignored when e.g. forecasting.\n",
      "  self._init_dates(dates, freq)\n"
     ]
    },
    {
     "name": "stdout",
     "output_type": "stream",
     "text": [
      "6 2                                SARIMAX Results                                \n",
      "==============================================================================\n",
      "Dep. Variable:          TEWS_moisture   No. Observations:                 5000\n",
      "Model:                 ARIMA(5, 6, 2)   Log Likelihood               36050.851\n",
      "Date:                Thu, 12 May 2022   AIC                         -72085.701\n",
      "Time:                        11:09:07   BIC                         -72033.573\n",
      "Sample:                             0   HQIC                        -72067.430\n",
      "                               - 5000                                         \n",
      "Covariance Type:                  opg                                         \n",
      "==============================================================================\n",
      "                 coef    std err          z      P>|z|      [0.025      0.975]\n",
      "------------------------------------------------------------------------------\n",
      "ar.L1         -0.0003   2.42e-19  -1.38e+15      0.000      -0.000      -0.000\n",
      "ar.L2         -0.0003   9.39e-20  -3.69e+15      0.000      -0.000      -0.000\n",
      "ar.L3         -0.0004   1.85e-18   -1.9e+14      0.000      -0.000      -0.000\n",
      "ar.L4         -0.0003   3.62e-18  -9.39e+13      0.000      -0.000      -0.000\n",
      "ar.L5         -0.0003   2.87e-18  -1.19e+14      0.000      -0.000      -0.000\n",
      "ma.L1          0.1520   6.17e-19   2.46e+17      0.000       0.152       0.152\n",
      "ma.L2          0.1340   9.52e-20   1.41e+18      0.000       0.134       0.134\n",
      "sigma2      8.543e-08   2.42e-09     35.333      0.000    8.07e-08    9.02e-08\n",
      "===================================================================================\n",
      "Ljung-Box (L1) (Q):                    nan   Jarque-Bera (JB):              1872.75\n",
      "Prob(Q):                               nan   Prob(JB):                         0.00\n",
      "Heteroskedasticity (H):                nan   Skew:                             0.00\n",
      "Prob(H) (two-sided):                   nan   Kurtosis:                         0.00\n",
      "===================================================================================\n",
      "\n",
      "Warnings:\n",
      "[1] Covariance matrix calculated using the outer product of gradients (complex-step).\n",
      "[2] Covariance matrix is singular or near-singular, with condition number 5.26e+36. Standard errors may be unstable.\n"
     ]
    },
    {
     "name": "stderr",
     "output_type": "stream",
     "text": [
      "/home/gitpod/.pyenv/versions/3.8.13/lib/python3.8/site-packages/statsmodels/base/model.py:604: ConvergenceWarning: Maximum Likelihood optimization failed to converge. Check mle_retvals\n",
      "  warnings.warn(\"Maximum Likelihood optimization failed to \"\n",
      "/home/gitpod/.pyenv/versions/3.8.13/lib/python3.8/site-packages/statsmodels/tsa/stattools.py:1346: RuntimeWarning: invalid value encountered in true_divide\n",
      "  test_statistic = numer_squared_sum / denom_squared_sum\n",
      "/home/gitpod/.pyenv/versions/3.8.13/lib/python3.8/site-packages/statsmodels/tsa/stattools.py:681: RuntimeWarning: invalid value encountered in true_divide\n",
      "  acf = avf[: nlags + 1] / avf[0]\n",
      "/home/gitpod/.pyenv/versions/3.8.13/lib/python3.8/site-packages/statsmodels/tsa/base/tsa_model.py:471: ValueWarning: An unsupported index was provided and will be ignored when e.g. forecasting.\n",
      "  self._init_dates(dates, freq)\n",
      "/home/gitpod/.pyenv/versions/3.8.13/lib/python3.8/site-packages/statsmodels/tsa/base/tsa_model.py:471: ValueWarning: An unsupported index was provided and will be ignored when e.g. forecasting.\n",
      "  self._init_dates(dates, freq)\n",
      "/home/gitpod/.pyenv/versions/3.8.13/lib/python3.8/site-packages/statsmodels/tsa/base/tsa_model.py:471: ValueWarning: An unsupported index was provided and will be ignored when e.g. forecasting.\n",
      "  self._init_dates(dates, freq)\n"
     ]
    },
    {
     "name": "stdout",
     "output_type": "stream",
     "text": [
      "7 2                                SARIMAX Results                                \n",
      "==============================================================================\n",
      "Dep. Variable:          TEWS_moisture   No. Observations:                 5000\n",
      "Model:                 ARIMA(5, 7, 2)   Log Likelihood               37852.876\n",
      "Date:                Thu, 12 May 2022   AIC                         -75689.752\n",
      "Time:                        11:09:23   BIC                         -75637.625\n",
      "Sample:                             0   HQIC                        -75671.481\n",
      "                               - 5000                                         \n",
      "Covariance Type:                  opg                                         \n",
      "==============================================================================\n",
      "                 coef    std err          z      P>|z|      [0.025      0.975]\n",
      "------------------------------------------------------------------------------\n",
      "ar.L1         -0.1717   2.09e-05  -8219.056      0.000      -0.172      -0.172\n",
      "ar.L2         -0.1585   2.04e-05  -7766.045      0.000      -0.159      -0.158\n",
      "ar.L3         -0.1348   2.02e-05  -6688.680      0.000      -0.135      -0.135\n",
      "ar.L4          0.0297   2.01e-05   1477.345      0.000       0.030       0.030\n",
      "ar.L5         -0.0430   1.98e-05  -2171.194      0.000      -0.043      -0.043\n",
      "ma.L1         -0.0362   3.27e-05  -1104.430      0.000      -0.036      -0.036\n",
      "ma.L2         -0.0324   3.22e-05  -1008.579      0.000      -0.032      -0.032\n",
      "sigma2      4.124e-08   8.65e-10     47.653      0.000    3.95e-08    4.29e-08\n",
      "===================================================================================\n",
      "Ljung-Box (L1) (Q):                    nan   Jarque-Bera (JB):              1872.38\n",
      "Prob(Q):                               nan   Prob(JB):                         0.00\n",
      "Heteroskedasticity (H):                nan   Skew:                             0.00\n",
      "Prob(H) (two-sided):                   nan   Kurtosis:                         0.00\n",
      "===================================================================================\n",
      "\n",
      "Warnings:\n",
      "[1] Covariance matrix calculated using the outer product of gradients (complex-step).\n",
      "[2] Covariance matrix is singular or near-singular, with condition number 1.77e+17. Standard errors may be unstable.\n"
     ]
    },
    {
     "name": "stderr",
     "output_type": "stream",
     "text": [
      "/home/gitpod/.pyenv/versions/3.8.13/lib/python3.8/site-packages/statsmodels/base/model.py:604: ConvergenceWarning: Maximum Likelihood optimization failed to converge. Check mle_retvals\n",
      "  warnings.warn(\"Maximum Likelihood optimization failed to \"\n",
      "/home/gitpod/.pyenv/versions/3.8.13/lib/python3.8/site-packages/statsmodels/tsa/stattools.py:1346: RuntimeWarning: invalid value encountered in true_divide\n",
      "  test_statistic = numer_squared_sum / denom_squared_sum\n",
      "/home/gitpod/.pyenv/versions/3.8.13/lib/python3.8/site-packages/statsmodels/tsa/stattools.py:681: RuntimeWarning: invalid value encountered in true_divide\n",
      "  acf = avf[: nlags + 1] / avf[0]\n",
      "/home/gitpod/.pyenv/versions/3.8.13/lib/python3.8/site-packages/statsmodels/tsa/base/tsa_model.py:471: ValueWarning: An unsupported index was provided and will be ignored when e.g. forecasting.\n",
      "  self._init_dates(dates, freq)\n",
      "/home/gitpod/.pyenv/versions/3.8.13/lib/python3.8/site-packages/statsmodels/tsa/base/tsa_model.py:471: ValueWarning: An unsupported index was provided and will be ignored when e.g. forecasting.\n",
      "  self._init_dates(dates, freq)\n",
      "/home/gitpod/.pyenv/versions/3.8.13/lib/python3.8/site-packages/statsmodels/tsa/base/tsa_model.py:471: ValueWarning: An unsupported index was provided and will be ignored when e.g. forecasting.\n",
      "  self._init_dates(dates, freq)\n"
     ]
    },
    {
     "name": "stdout",
     "output_type": "stream",
     "text": [
      "8 2                                SARIMAX Results                                \n",
      "==============================================================================\n",
      "Dep. Variable:          TEWS_moisture   No. Observations:                 5000\n",
      "Model:                 ARIMA(5, 8, 2)   Log Likelihood               29143.204\n",
      "Date:                Thu, 12 May 2022   AIC                         -58270.408\n",
      "Time:                        11:09:41   BIC                         -58218.283\n",
      "Sample:                             0   HQIC                        -58252.137\n",
      "                               - 5000                                         \n",
      "Covariance Type:                  opg                                         \n",
      "==============================================================================\n",
      "                 coef    std err          z      P>|z|      [0.025      0.975]\n",
      "------------------------------------------------------------------------------\n",
      "ar.L1          0.0002   6.09e-17   3.45e+12      0.000       0.000       0.000\n",
      "ar.L2       5.393e-05   1.85e-16   2.92e+11      0.000    5.39e-05    5.39e-05\n",
      "ar.L3          0.0002   2.92e-16   6.57e+11      0.000       0.000       0.000\n",
      "ar.L4          0.0001   2.17e-16   4.89e+11      0.000       0.000       0.000\n",
      "ar.L5       8.951e-05   4.75e-17   1.89e+12      0.000    8.95e-05    8.95e-05\n",
      "ma.L1      -8.158e-05   6.09e-17  -1.34e+12      0.000   -8.16e-05   -8.16e-05\n",
      "ma.L2         -0.0002   1.85e-16  -8.19e+11      0.000      -0.000      -0.000\n",
      "sigma2      1.352e-06   3.83e-08     35.330      0.000    1.28e-06    1.43e-06\n",
      "===================================================================================\n",
      "Ljung-Box (L1) (Q):                    nan   Jarque-Bera (JB):              1872.00\n",
      "Prob(Q):                               nan   Prob(JB):                         0.00\n",
      "Heteroskedasticity (H):                nan   Skew:                             0.00\n",
      "Prob(H) (two-sided):                   nan   Kurtosis:                         0.00\n",
      "===================================================================================\n",
      "\n",
      "Warnings:\n",
      "[1] Covariance matrix calculated using the outer product of gradients (complex-step).\n",
      "[2] Covariance matrix is singular or near-singular, with condition number 3.39e+41. Standard errors may be unstable.\n"
     ]
    },
    {
     "name": "stderr",
     "output_type": "stream",
     "text": [
      "/home/gitpod/.pyenv/versions/3.8.13/lib/python3.8/site-packages/statsmodels/base/model.py:604: ConvergenceWarning: Maximum Likelihood optimization failed to converge. Check mle_retvals\n",
      "  warnings.warn(\"Maximum Likelihood optimization failed to \"\n"
     ]
    },
    {
     "name": "stdout",
     "output_type": "stream",
     "text": [
      "9 2                                SARIMAX Results                                \n",
      "==============================================================================\n",
      "Dep. Variable:          TEWS_moisture   No. Observations:                 5000\n",
      "Model:                 ARIMA(5, 9, 2)   Log Likelihood               31431.322\n",
      "Date:                Thu, 12 May 2022   AIC                         -62846.644\n",
      "Time:                        11:10:08   BIC                         -62794.521\n",
      "Sample:                             0   HQIC                        -62828.374\n",
      "                               - 5000                                         \n",
      "Covariance Type:                  opg                                         \n",
      "==============================================================================\n",
      "                 coef    std err          z      P>|z|      [0.025      0.975]\n",
      "------------------------------------------------------------------------------\n",
      "ar.L1         -0.0004   1.05e-14  -3.48e+10      0.000      -0.000      -0.000\n",
      "ar.L2         -0.0007   9.51e-15  -7.78e+10      0.000      -0.001      -0.001\n",
      "ar.L3         -0.0001   8.57e-15  -1.34e+10      0.000      -0.000      -0.000\n",
      "ar.L4         -0.0005    7.7e-15   -6.6e+10      0.000      -0.001      -0.001\n",
      "ar.L5         -0.0002   6.92e-15  -3.59e+10      0.000      -0.000      -0.000\n",
      "ma.L1          0.0006   1.06e-14      6e+10      0.000       0.001       0.001\n",
      "ma.L2         -0.0002   9.52e-15  -1.86e+10      0.000      -0.000      -0.000\n",
      "sigma2      5.387e-07   1.06e-08     50.956      0.000    5.18e-07    5.59e-07\n",
      "===================================================================================\n",
      "Ljung-Box (L1) (Q):                    nan   Jarque-Bera (JB):              1871.62\n",
      "Prob(Q):                               nan   Prob(JB):                         0.00\n",
      "Heteroskedasticity (H):                nan   Skew:                             0.00\n",
      "Prob(H) (two-sided):                   nan   Kurtosis:                         0.00\n",
      "===================================================================================\n",
      "\n",
      "Warnings:\n",
      "[1] Covariance matrix calculated using the outer product of gradients (complex-step).\n",
      "[2] Covariance matrix is singular or near-singular, with condition number 7.63e+28. Standard errors may be unstable.\n"
     ]
    },
    {
     "name": "stderr",
     "output_type": "stream",
     "text": [
      "/home/gitpod/.pyenv/versions/3.8.13/lib/python3.8/site-packages/statsmodels/tsa/stattools.py:1346: RuntimeWarning: invalid value encountered in true_divide\n",
      "  test_statistic = numer_squared_sum / denom_squared_sum\n",
      "/home/gitpod/.pyenv/versions/3.8.13/lib/python3.8/site-packages/statsmodels/tsa/stattools.py:681: RuntimeWarning: invalid value encountered in true_divide\n",
      "  acf = avf[: nlags + 1] / avf[0]\n"
     ]
    }
   ],
   "source": [
    "for i in range(0,10):\n",
    "    model = ARIMA(df_time_series['TEWS_moisture'][0:5000], order=(5, i, 2))\n",
    "    res = model.fit()\n",
    "    print(i,j,res.summary())\n"
   ]
  },
  {
   "cell_type": "code",
   "execution_count": 26,
   "metadata": {},
   "outputs": [
    {
     "name": "stderr",
     "output_type": "stream",
     "text": [
      "/home/gitpod/.pyenv/versions/3.8.13/lib/python3.8/site-packages/statsmodels/tsa/base/tsa_model.py:471: ValueWarning: An unsupported index was provided and will be ignored when e.g. forecasting.\n",
      "  self._init_dates(dates, freq)\n",
      "/home/gitpod/.pyenv/versions/3.8.13/lib/python3.8/site-packages/statsmodels/tsa/base/tsa_model.py:471: ValueWarning: An unsupported index was provided and will be ignored when e.g. forecasting.\n",
      "  self._init_dates(dates, freq)\n",
      "/home/gitpod/.pyenv/versions/3.8.13/lib/python3.8/site-packages/statsmodels/tsa/base/tsa_model.py:471: ValueWarning: An unsupported index was provided and will be ignored when e.g. forecasting.\n",
      "  self._init_dates(dates, freq)\n"
     ]
    },
    {
     "data": {
      "text/plain": [
       "[<matplotlib.lines.Line2D at 0x7f3a2f8e9070>]"
      ]
     },
     "execution_count": 26,
     "metadata": {},
     "output_type": "execute_result"
    },
    {
     "data": {
      "image/png": "[encoded data removed]",
      "text/plain": [
       "<Figure size 432x288 with 1 Axes>"
      ]
     },
     "metadata": {
      "needs_background": "light"
     },
     "output_type": "display_data"
    }
   ],
   "source": [
    "from statsmodels.tsa.arima.model import ARIMA\n",
    "import matplotlib.pylab as plt\n",
    "# for i in range(0,6):\n",
    "#     for j in range(0,3):\n",
    "model = ARIMA(df_time_series['TEWS_moisture'][0:5000], order=(5, 0, 3))\n",
    "res = model.fit()\n",
    "        # print(i,j,res.summary())\n",
    "plt.plot(res.fittedvalues)"
   ]
  },
  {
   "cell_type": "code",
   "execution_count": null,
   "metadata": {},
   "outputs": [],
   "source": []
  }
 ],
 "metadata": {
  "kernelspec": {
   "display_name": "Python 3.8.13 64-bit ('3.8.13')",
   "language": "python",
   "name": "python3"
  },
  "language_info": {
   "codemirror_mode": {
    "name": "ipython",
    "version": 3
   },
   "file_extension": ".py",
   "mimetype": "text/x-python",
   "name": "python",
   "nbconvert_exporter": "python",
   "pygments_lexer": "ipython3",
   "version": "3.8.13"
  },
  "orig_nbformat": 4,
  "vscode": {
   "interpreter": {
    "hash": "110cc1dee26208153f2972f08a2ad52b6a56238dc66d48e87fb757ef2996db56"
   }
  }
 },
 "nbformat": 4,
 "nbformat_minor": 2
}
