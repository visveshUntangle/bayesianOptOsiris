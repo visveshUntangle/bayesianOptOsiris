{
 "cells": [
  {
   "cell_type": "code",
   "execution_count": null,
   "metadata": {},
   "outputs": [],
   "source": [
    "import statsmodels.tsa.arima_model as ARIMA\n",
    "\n",
    "mod = ARIMA(endog, order=(5, 0, 2))\n",
    "res = mod.fit()\n",
    "print(res.summary())\n"
   ]
  }
 ],
 "metadata": {
  "language_info": {
   "name": "python"
  },
  "orig_nbformat": 4
 },
 "nbformat": 4,
 "nbformat_minor": 2
}
